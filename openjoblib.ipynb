{
 "cells": [
  {
   "cell_type": "code",
   "execution_count": null,
   "metadata": {},
   "outputs": [],
   "source": [
    "\n",
    "import joblib\n",
    "features_model = joblib.load('models/features_model')\n",
    "themodel = joblib.load('models/themodel')"
   ]
  },
  {
   "cell_type": "code",
   "execution_count": null,
   "metadata": {},
   "outputs": [],
   "source": [
    "def predicted():\n",
    "    g=int(input(\"gender: \"))\n",
    "    c=int(input(\"company: \"))\n",
    "    w=int(input(\"WFH: \"))\n",
    "    a=int(input(\"age: \"))\n",
    "    t=int(input(\"tenure in years: \"))\n",
    "    v=int(input(\"vacations taken: \"))\n",
    "    de=int(input(\"designation: \"))\n",
    "    avg=int(input(\"avg hours per day: \"))\n",
    "    ss=float(input(\"satistaction score out of 10: \"))\n",
    "    \n",
    "    arr=[[g,c,w,a,t,v,de,avg,ss],[g,c,w,a,t,v,de,avg,ss]]\n",
    "    arr_prep=features_model.fit_transform(arr)\n",
    "    mfg=themodel.predict(arr_prep)\n",
    "    print(\"mfg_score is: \",mfg[0])"
   ]
  },
  {
   "cell_type": "code",
   "execution_count": null,
   "metadata": {},
   "outputs": [],
   "source": [
    "predicted()"
   ]
  }
 ],
 "metadata": {
  "kernelspec": {
   "display_name": "Python 3.9.7 ('base')",
   "language": "python",
   "name": "python3"
  },
  "language_info": {
   "codemirror_mode": {
    "name": "ipython",
    "version": 3
   },
   "file_extension": ".py",
   "mimetype": "text/x-python",
   "name": "python",
   "nbconvert_exporter": "python",
   "pygments_lexer": "ipython3",
   "version": "3.9.7"
  },
  "vscode": {
   "interpreter": {
    "hash": "d63144fc2d377db556c3d4fecc2a1d98bfd915b30b804511c966a6e33135f2de"
   }
  }
 },
 "nbformat": 4,
 "nbformat_minor": 2
}
